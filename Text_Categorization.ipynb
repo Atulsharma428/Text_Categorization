{
 "cells": [
  {
   "cell_type": "code",
   "execution_count": 2,
   "id": "590f2c7c",
   "metadata": {},
   "outputs": [],
   "source": [
    "import re\n",
    "import pandas as pd\n",
    "import nltk\n",
    "from nltk.stem import WordNetLemmatizer\n",
    "from sklearn.feature_extraction.text import TfidfVectorizer\n",
    "from sklearn.model_selection import train_test_split\n",
    "import xgboost as xgb\n",
    "from sklearn.metrics import accuracy_score"
   ]
  },
  {
   "cell_type": "code",
   "execution_count": 3,
   "id": "7838533f",
   "metadata": {},
   "outputs": [],
   "source": [
    "# Load the Excel file into a DataFrame\n",
    "data = pd.read_excel('NLP_Data.xlsx')\n",
    "X = data['Description of the Grievance']\n",
    "y = data['Grievance Category']"
   ]
  },
  {
   "cell_type": "code",
   "execution_count": 4,
   "id": "55e4682d",
   "metadata": {},
   "outputs": [],
   "source": [
    "# Split the dataset\n",
    "X_train, X_test, y_train, y_test = train_test_split(X, y, test_size=0.2, random_state=42)"
   ]
  },
  {
   "cell_type": "code",
   "execution_count": 5,
   "id": "806359c3",
   "metadata": {},
   "outputs": [],
   "source": [
    "# Text cleaning\n",
    "def clean_text(text):\n",
    "    text = re.sub(r'\\s+', ' ', text)\n",
    "    text = re.sub(r'[^a-zA-Z\\s]', '', text)\n",
    "    text = text.lower().strip()\n",
    "    return text"
   ]
  },
  {
   "cell_type": "code",
   "execution_count": 6,
   "id": "9fc3361a",
   "metadata": {},
   "outputs": [],
   "source": [
    "# Lemmatization\n",
    "lemmatizer = WordNetLemmatizer()"
   ]
  },
  {
   "cell_type": "code",
   "execution_count": 7,
   "id": "6fc4b542",
   "metadata": {},
   "outputs": [],
   "source": [
    "def lemmatize_text(text):\n",
    "    words = text.split()\n",
    "    lemmatized_words = [lemmatizer.lemmatize(word) for word in words]\n",
    "    return ' '.join(lemmatized_words)"
   ]
  },
  {
   "cell_type": "code",
   "execution_count": 8,
   "id": "f41f1189",
   "metadata": {},
   "outputs": [],
   "source": [
    "import numpy as np\n",
    "\n",
    "# Remove rows with NaN values from X_train and X_test\n",
    "X_train_clean = X_train.dropna()\n",
    "X_test_clean = X_test.dropna()\n",
    "\n",
    "# Or, impute NaN values with an empty string\n",
    "X_train_imputed = X_train.fillna('')\n",
    "X_test_imputed = X_test.fillna('')"
   ]
  },
  {
   "cell_type": "code",
   "execution_count": 9,
   "id": "562519ac",
   "metadata": {},
   "outputs": [
    {
     "name": "stdout",
     "output_type": "stream",
     "text": [
      "object\n",
      "object\n"
     ]
    }
   ],
   "source": [
    "# Check data types of columns in X_train and X_test\n",
    "print(X_train.dtypes)\n",
    "print(X_test.dtypes)"
   ]
  },
  {
   "cell_type": "code",
   "execution_count": 10,
   "id": "58ad115c",
   "metadata": {},
   "outputs": [],
   "source": [
    "X_train_unicode = X_train.astype(str)\n",
    "X_test_unicode = X_test.astype(str)"
   ]
  },
  {
   "cell_type": "code",
   "execution_count": 11,
   "id": "efc570e1",
   "metadata": {},
   "outputs": [],
   "source": [
    "from sklearn.feature_extraction.text import TfidfVectorizer"
   ]
  },
  {
   "cell_type": "code",
   "execution_count": 12,
   "id": "a3e71b1e",
   "metadata": {},
   "outputs": [],
   "source": [
    "vectorizer = TfidfVectorizer(max_features=5000)"
   ]
  },
  {
   "cell_type": "code",
   "execution_count": 13,
   "id": "5ab749ad",
   "metadata": {},
   "outputs": [],
   "source": [
    "X_train_tfidf = vectorizer.fit_transform(X_train_clean)"
   ]
  },
  {
   "cell_type": "code",
   "execution_count": 14,
   "id": "04b8cea0",
   "metadata": {},
   "outputs": [],
   "source": [
    "# Extracting columns\n",
    "descriptions = data['Description of the Grievance']\n",
    "categories = data['Grievance Category']"
   ]
  },
  {
   "cell_type": "code",
   "execution_count": 15,
   "id": "1f586f7b",
   "metadata": {},
   "outputs": [],
   "source": [
    "from nltk.corpus import stopwords\n",
    "from nltk.tokenize import word_tokenize"
   ]
  },
  {
   "cell_type": "code",
   "execution_count": 16,
   "id": "92e390a2",
   "metadata": {},
   "outputs": [
    {
     "name": "stderr",
     "output_type": "stream",
     "text": [
      "[nltk_data] Downloading package punkt to\n",
      "[nltk_data]     C:\\Users\\atuls\\AppData\\Roaming\\nltk_data...\n",
      "[nltk_data]   Package punkt is already up-to-date!\n",
      "[nltk_data] Downloading package stopwords to\n",
      "[nltk_data]     C:\\Users\\atuls\\AppData\\Roaming\\nltk_data...\n",
      "[nltk_data]   Package stopwords is already up-to-date!\n"
     ]
    },
    {
     "name": "stdout",
     "output_type": "stream",
     "text": [
      "Skipping invalid description or category: Dissatisfaction with dental office nan\n",
      "Skipping invalid description or category: Dissatisfaction with Grossmont Dental in providing two different dental service estimates with a $200 difference and charging her over $1000 for a crown. \n",
      " nan\n",
      "Skipping invalid description or category: Dissatisfaction with having received mail correspondence to his former address although he has requested to change his address on several occasions.  nan\n",
      "Skipping invalid description or category: Dissatisfaction with Livanta's decision to uphold the skilled nursing facility end his Medicare covered services.  nan\n",
      "Skipping invalid description or category: Dissatisfaction with mail order being delivered to the incorrect address.  nan\n",
      "Skipping invalid description or category: Dissatisfaction with not having retina exam at Escondido Premier Eye Care. nan\n",
      "Skipping invalid description or category: Dissatisfaction with the dental benefit provider regarding the telephone call wait times, and not providing the website information or given an option to leave a message.   nan\n",
      "Skipping invalid description or category: Dissatisfaction with the quality of services received from a customer care representative. Duplicate case see - Grievance ID - GRVS_2021_000003 nan\n",
      "Skipping invalid description or category: Member dissatisfied with glasses. nan\n",
      "Skipping invalid description or category: Member dissatisfied with her full name not being on her insurance care due to spacing. nan\n",
      "Skipping invalid description or category: member dissatisfied with non payment of claim.  nan\n",
      "Skipping invalid description or category: Member dissatisfied with not being able to get contact lenses covered. Member relayed he had a eye surgery in 2015 in which a lens could not be replaced. He said that he now has to wear contact lenses for ever as a result. He relayed he was getting contacts shipped via SRS and now it has stopped. Member relayed the contacts should be covered medically. nan\n",
      "Skipping invalid description or category: Member dissatisfied with PCP services received on 4/1/22. Member states she fell on her mouth and called the provider on 4/1 but did not receive a call back until 4/5.  nan\n",
      "Skipping invalid description or category: Member dissatisfied with Retina Institute of alifornia located on 1620 Alpine Blvd Ste 117 Alpine CA 91901 (619) 445-2687 for filing a claim for services received on 1/11/2022. Member states that he told the office he would e paying out-of-pcoket for his lenses and asked the office not to bill his insurance. Member states that he was unhappy to hear the claim was filed.  nan\n",
      "Skipping invalid description or category: Member dissatisfied with the quality of care received on December 19, 2022 to January 3, 2023 from Ana Meigs, DDS. nan\n",
      "Skipping invalid description or category: Member dissatisfied with the quality of service received from orthopedic office. nan\n",
      "Skipping invalid description or category: Member dissatisfied with the shipment of Trelegy 90 days supply. Member states that he did not authorize the shipment. nan\n",
      "Skipping invalid description or category: Member's PCP requesting an expedited appeal of SCMG's denial of patient lift. PCP states that member is immobile and in a lot of pain due to past back surgery. nan\n",
      "Skipping invalid description or category: Member's spouse appealing the $150 bill received for services received on 2/8/2023 to 2/9/2023 from Palomar Health. nan\n",
      "Skipping invalid description or category: Member Xray technician advised the picture/images were not clear and did it again, the dentist then reviewed xray and checked her teeth, and member advised she just needs basic cleaning and he advised she needs deep cleaning. Member advised she only wanted to get services that were covered under her plan since she does not have money to pay for anything else. Member is dissatisfied she was not told code D0350 was not covered and now she is being billed 90.00. Member was encouraged to have deep cleaning by the dentist, which she states when she scheduled appt and confirmed that it would not be covered and she would have a cost share she canceled appt and did not get deep cleaning, since she does not have money to pay. How: Member would like to see this resolved by not being financially responsible for any charges for that dos, as she advised dentist office she did not want to get anything done that would not be covered by her plan. The dentist office assured her these services were covered. Member is dissatisfied they were not honest. The current needs were met by: CCR listened to the member, validated her concerns and assisted with Grievance..\n",
      "\n",
      "Appeal/Grievance time frame given:\n",
      "Your Appeal or Grievance that is “payment” related will be reviewed and completed within 60 calendar days.\n",
      "\n",
      " nan\n",
      "Skipping invalid description or category: Please describe your concerns in detail.*\n",
      "I need an MRI. Activity Road location can only see me after 6 PM at night. This is unacceptable for older\n",
      "people who do not like to drive when it’s dark. Grossmont Center MRI Office told me I needed to wait\n",
      "online on the phone at least 40 minutes before talking to a scheduler!!! 😫😫. Why doesn’t Sharp hire\n",
      "more people to help their patients and customers? This is totally unacceptable. I am thinking of switching\n",
      "to a different health plan because of this. nan\n",
      "Skipping invalid description or category: Test nan\n",
      "Skipping invalid description or category: Who: member. Why: member got a letter of denial from vsp for duplicate medical exam and evaluation. the cpt code is 92002. he got an eye exam on 11/25/2019 but not in 2020. member feels he should have been able to get another eye exam on another date.. When: 11/01/21. Where: Costco . What: pmg is SRS, claim number is 431437283. How: approve the claim. The current needs were met by: filed an appeal for the member. An acknowledgment letter will be sent within 5 calendar days and your case will be completed within 30 calendar days.\n",
      "\n",
      "Thank you, nan\n",
      "Skipping invalid description or category: nan Access And Availability\n",
      "Skipping invalid description or category: nan Quality Of Care\n",
      "Skipping invalid description or category: nan Quality Of Service\n"
     ]
    }
   ],
   "source": [
    "# Initialize NLTK and download necessary resources\n",
    "nltk.download('punkt')\n",
    "nltk.download('stopwords')\n",
    "stop_words = set(stopwords.words('english'))\n",
    "wnl = WordNetLemmatizer()\n",
    "\n",
    "# Text cleaning, tokenization, and lowercasing\n",
    "cleaned_texts = []\n",
    "cleaned_categories = []  # To store valid categories corresponding to cleaned texts\n",
    "for description, category in zip(descriptions, categories):\n",
    "    if isinstance(description, str) and isinstance(category, str):  # Check if both description and category are strings\n",
    "        words = word_tokenize(description)\n",
    "        words = [word.lower() for word in words if word.isalpha()]\n",
    "        words = [word for word in words if word not in stop_words]\n",
    "        words = [wnl.lemmatize(word) for word in words]\n",
    "        cleaned_texts.append(\" \".join(words))\n",
    "        cleaned_categories.append(category)  # Store the corresponding category\n",
    "    else:\n",
    "        print(\"Skipping invalid description or category:\", description, category)"
   ]
  },
  {
   "cell_type": "code",
   "execution_count": 17,
   "id": "1f13c57d",
   "metadata": {},
   "outputs": [],
   "source": [
    "# Remove any remaining NaN or empty string values\n",
    "cleaned_texts = [text for text in cleaned_texts if text]\n",
    "cleaned_categories = [category for category in cleaned_categories if isinstance(category, str)]"
   ]
  },
  {
   "cell_type": "code",
   "execution_count": 19,
   "id": "e9b32f38",
   "metadata": {},
   "outputs": [],
   "source": [
    "# TF-IDF Vectorization\n",
    "tfidf_vectorizer = TfidfVectorizer(max_features=1000)\n",
    "tfidf_matrix = tfidf_vectorizer.fit_transform(cleaned_texts)"
   ]
  },
  {
   "cell_type": "code",
   "execution_count": 20,
   "id": "a4c6c764",
   "metadata": {},
   "outputs": [],
   "source": [
    "# Split data\n",
    "X_train, X_test, y_train, y_test = train_test_split(tfidf_matrix, cleaned_categories, test_size=0.2, random_state=42)"
   ]
  },
  {
   "cell_type": "code",
   "execution_count": 21,
   "id": "c5d36cab",
   "metadata": {},
   "outputs": [],
   "source": [
    "from xgboost import XGBClassifier"
   ]
  },
  {
   "cell_type": "code",
   "execution_count": 22,
   "id": "59892ab7",
   "metadata": {},
   "outputs": [],
   "source": [
    "# Convert sparse matrices to dense arrays for imputation\n",
    "X_train_dense = X_train.toarray()\n",
    "X_test_dense = X_test.toarray()"
   ]
  },
  {
   "cell_type": "code",
   "execution_count": 23,
   "id": "83a7ac2c",
   "metadata": {},
   "outputs": [],
   "source": [
    "from sklearn.impute import SimpleImputer"
   ]
  },
  {
   "cell_type": "code",
   "execution_count": 24,
   "id": "a024c49b",
   "metadata": {},
   "outputs": [],
   "source": [
    "# Handle missing values in dense arrays\n",
    "imputer = SimpleImputer(strategy='constant', fill_value=0)  # Replace NaN with 0\n",
    "X_train_imputed = imputer.fit_transform(X_train_dense)\n",
    "X_test_imputed = imputer.transform(X_test_dense)"
   ]
  },
  {
   "cell_type": "code",
   "execution_count": 25,
   "id": "f6cd399c",
   "metadata": {},
   "outputs": [],
   "source": [
    "# Initialize XGBoost classifier\n",
    "xgb_classifier = XGBClassifier(n_estimators=100, random_state=42)"
   ]
  },
  {
   "cell_type": "code",
   "execution_count": 26,
   "id": "1b29e404",
   "metadata": {},
   "outputs": [
    {
     "name": "stdout",
     "output_type": "stream",
     "text": [
      "XGBoost Accuracy: 1.0\n"
     ]
    }
   ],
   "source": [
    "# Convert boolean labels to integers (1 for True, 0 for False)\n",
    "y_train_int = [1 if label == 'True' else 0 for label in y_train]\n",
    "y_test_int = [1 if label == 'True' else 0 for label in y_test]\n",
    "\n",
    "# Initialize XGBoost classifier\n",
    "xgb_classifier = XGBClassifier(n_estimators=100, random_state=42)\n",
    "\n",
    "# Train the classifier\n",
    "xgb_classifier.fit(X_train_imputed, y_train_int)  # Use y_train_int instead of y_train\n",
    "\n",
    "# Predict using the classifier\n",
    "xgb_predictions = xgb_classifier.predict(X_test_imputed)\n",
    "\n",
    "# Calculate accuracy\n",
    "xgb_accuracy = accuracy_score(y_test_int, xgb_predictions)  # Use y_test_int instead of y_test\n",
    "\n",
    "print(\"XGBoost Accuracy:\", xgb_accuracy)"
   ]
  },
  {
   "cell_type": "code",
   "execution_count": 27,
   "id": "b53205ee",
   "metadata": {},
   "outputs": [
    {
     "name": "stdout",
     "output_type": "stream",
     "text": [
      "XGBoost Accuracy: 100.0 %\n"
     ]
    }
   ],
   "source": [
    "# Calculate accuracy and convert to percentage\n",
    "xgb_accuracy = accuracy_score(y_test_int, xgb_predictions) * 100\n",
    "\n",
    "print(\"XGBoost Accuracy:\", xgb_accuracy, \"%\")"
   ]
  },
  {
   "cell_type": "code",
   "execution_count": null,
   "id": "323ba783",
   "metadata": {},
   "outputs": [],
   "source": []
  }
 ],
 "metadata": {
  "kernelspec": {
   "display_name": "Python 3 (ipykernel)",
   "language": "python",
   "name": "python3"
  },
  "language_info": {
   "codemirror_mode": {
    "name": "ipython",
    "version": 3
   },
   "file_extension": ".py",
   "mimetype": "text/x-python",
   "name": "python",
   "nbconvert_exporter": "python",
   "pygments_lexer": "ipython3",
   "version": "3.11.4"
  }
 },
 "nbformat": 4,
 "nbformat_minor": 5
}
